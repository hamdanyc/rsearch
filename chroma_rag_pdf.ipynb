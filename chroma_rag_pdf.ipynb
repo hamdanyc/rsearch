{
 "cells": [
  {
   "cell_type": "code",
   "execution_count": null,
   "id": "3699f76f-4107-47c6-9bb6-b11785278605",
   "metadata": {},
   "outputs": [],
   "source": [
    "from langchain.chat_models import init_chat_model\n",
    "import chromadb\n",
    "from chromadb.utils import embedding_functions\n",
    "from langchain_chroma import Chroma\n",
    "from langchain.prompts import ChatPromptTemplate\n",
    "from langchain_core.output_parsers import StrOutputParser\n",
    "from langchain_core.runnables import RunnablePassthrough\n",
    "from langchain_core.embeddings import Embeddings\n",
    "from dotenv import load_dotenv\n",
    "import os"
   ]
  },
  {
   "cell_type": "code",
   "execution_count": null,
   "id": "3220d2d7-d513-4bed-9a86-e4141293700d",
   "metadata": {},
   "outputs": [],
   "source": [
    "load_dotenv()\n",
    "os.environ[\"GROQ_API_KEY\"] = os.environ.get('GROQ_API_KEY')\n",
    "llm = init_chat_model(\"llama-3.2-1b-preview\", model_provider=\"groq\")"
   ]
  },
  {
   "cell_type": "code",
   "execution_count": null,
   "id": "b14d35c2-18e9-4e5f-a31e-447fb26833c1",
   "metadata": {},
   "outputs": [],
   "source": [
    "ef = chromadb.utils.embedding_functions.DefaultEmbeddingFunction()\n",
    "\n",
    "class DefChromaEF(Embeddings):\n",
    "  def __init__(self,ef):\n",
    "    self.ef = ef\n",
    "\n",
    "  def embed_documents(self,texts):\n",
    "    return self.ef(texts)\n",
    "\n",
    "  def embed_query(self, query):\n",
    "    return self.ef([query])[0]"
   ]
  },
  {
   "cell_type": "markdown",
   "id": "0fecd3d2-6fe8-4866-b8cb-ec1b31625b8d",
   "metadata": {},
   "source": [
    "# Get vector store | retriever"
   ]
  },
  {
   "cell_type": "code",
   "execution_count": null,
   "id": "bc2ac34f-30aa-47c2-bfe5-d79d36c47fc1",
   "metadata": {},
   "outputs": [],
   "source": [
    "client = chromadb.PersistentClient(path=\"chromadb/\")\n",
    "db = Chroma(client=client, collection_name=\"2402.10083.pdf\", embedding_function=DefChromaEF(ef))\n",
    "retriever = db.as_retriever()"
   ]
  },
  {
   "cell_type": "raw",
   "id": "9aa49a53-17fc-47d6-9c03-4094b12fa943",
   "metadata": {},
   "source": [
    "client.list_collections(15)"
   ]
  },
  {
   "cell_type": "markdown",
   "id": "07b264e5-9a32-4575-a138-2fbaaae8357e",
   "metadata": {},
   "source": [
    "# Create prompt template"
   ]
  },
  {
   "cell_type": "code",
   "execution_count": null,
   "id": "b37aaf20-58f1-4a02-8fd2-a1906e5d7605",
   "metadata": {},
   "outputs": [],
   "source": [
    "template = \"\"\"<bos><start_of_turn>user\\nAnswer the question based only on the following context and extract out a meaningful answer. \\\n",
    "Please write in full sentences with correct spelling and punctuation. if it makes sense use lists. \\\n",
    "If the context doesn't contain the answer, just respond that you are unable to find an answer. \\\n",
    "\n",
    "CONTEXT: {context}\n",
    "\n",
    "QUESTION: {question}\n",
    "\n",
    "<end_of_turn>\n",
    "<start_of_turn>model\\n\n",
    "ANSWER:\"\"\""
   ]
  },
  {
   "cell_type": "code",
   "execution_count": null,
   "id": "33533a69-5ffc-465a-8988-b140a71309ea",
   "metadata": {},
   "outputs": [],
   "source": [
    "prompt = ChatPromptTemplate.from_template(template)"
   ]
  },
  {
   "cell_type": "markdown",
   "id": "c9ef205a-4163-44ff-8e4a-5e75b1db779f",
   "metadata": {},
   "source": [
    "# Create the RAG chain using LCEL with prompt printing and streaming output"
   ]
  },
  {
   "cell_type": "code",
   "execution_count": null,
   "id": "d64c9a21-8acf-45e8-acf4-1638be7be03b",
   "metadata": {},
   "outputs": [],
   "source": [
    "rag_chain = (\n",
    "    {\"context\": retriever, \"question\": RunnablePassthrough()}\n",
    "    | prompt\n",
    "    | llm\n",
    ")"
   ]
  },
  {
   "cell_type": "markdown",
   "id": "63c0ccdf-c427-402c-8132-5692967701b8",
   "metadata": {},
   "source": [
    "# Function to ask questions"
   ]
  },
  {
   "cell_type": "code",
   "execution_count": null,
   "id": "51a2be4f-8512-4cb5-bcf4-fd3edd7368f4",
   "metadata": {},
   "outputs": [],
   "source": [
    "def ask_question(question):\n",
    "    print(\"Answer:\\n\\n\", end=\" \", flush=True)\n",
    "    for chunk in rag_chain.stream(question):\n",
    "        print(chunk.content, end=\"\", flush=True)\n",
    "    print(\"\\n\")"
   ]
  },
  {
   "cell_type": "markdown",
   "id": "3d263543-f0f6-46a2-82f0-d93f037cf954",
   "metadata": {},
   "source": [
    "# Example usage"
   ]
  },
  {
   "cell_type": "code",
   "execution_count": null,
   "id": "f2b87c7a-25df-451b-b682-0534714a70a8",
   "metadata": {},
   "outputs": [],
   "source": [
    "if __name__ == \"__main__\":\n",
    "    while True:\n",
    "        user_question = input(\"Ask a question (or type 'quit' to exit): \")\n",
    "        if user_question.lower() == 'quit':\n",
    "            break\n",
    "        answer = ask_question(user_question)"
   ]
  },
  {
   "cell_type": "code",
   "execution_count": null,
   "id": "8544e125-f988-4dbb-a2f4-2ea415c6d2f5",
   "metadata": {},
   "outputs": [],
   "source": []
  }
 ],
 "metadata": {
  "kernelspec": {
   "display_name": "Python 3 (ipykernel)",
   "language": "python",
   "name": "python3"
  },
  "language_info": {
   "codemirror_mode": {
    "name": "ipython",
    "version": 3
   },
   "file_extension": ".py",
   "mimetype": "text/x-python",
   "name": "python",
   "nbconvert_exporter": "python",
   "pygments_lexer": "ipython3",
   "version": "3.11.6"
  }
 },
 "nbformat": 4,
 "nbformat_minor": 5
}
