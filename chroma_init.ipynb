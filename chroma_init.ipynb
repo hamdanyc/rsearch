{
 "cells": [
  {
   "cell_type": "code",
   "execution_count": null,
   "id": "ab0642ca-a4b5-41de-b77b-8ffba2c8c69e",
   "metadata": {},
   "outputs": [],
   "source": [
    "from langchain_nomic import NomicEmbeddings\n",
    "from langchain_community.document_loaders import PyPDFLoader\n",
    "from langchain_text_splitters import CharacterTextSplitter\n",
    "from chromadb.utils import embedding_functions\n",
    "import os\n",
    "import chromadb"
   ]
  },
  {
   "cell_type": "code",
   "execution_count": null,
   "id": "ab00916d-2a67-412a-bac1-253ae47be8f1",
   "metadata": {},
   "outputs": [],
   "source": [
    "client = chromadb.PersistentClient(path=\"chromadb/\")"
   ]
  },
  {
   "cell_type": "code",
   "execution_count": null,
   "id": "2c764005-c479-4718-b3db-e0e315dd2d04",
   "metadata": {},
   "outputs": [],
   "source": [
    "client.heartbeat()"
   ]
  },
  {
   "cell_type": "markdown",
   "id": "993a656c-1bc7-4abc-97ae-fb328015d1c6",
   "metadata": {},
   "source": [
    "# Load document and chunk it as \"sub documents\""
   ]
  },
  {
   "cell_type": "code",
   "execution_count": null,
   "id": "5da33ffb-0d0a-429e-9845-bf3381500d44",
   "metadata": {},
   "outputs": [],
   "source": [
    "file_path = \"article/ziegler.pdf\"\n",
    "loader = PyPDFLoader(file_path)\n",
    "doc = loader.load()"
   ]
  },
  {
   "cell_type": "code",
   "execution_count": null,
   "id": "c404aac1-e3d0-464d-87c4-c93b77ca0bc0",
   "metadata": {},
   "outputs": [],
   "source": [
    "text_splitter = CharacterTextSplitter.from_tiktoken_encoder(\n",
    "    chunk_size=1000, chunk_overlap=0\n",
    ")\n",
    "pages = text_splitter.split_documents(doc)"
   ]
  },
  {
   "cell_type": "raw",
   "id": "490f02eb-bc42-4619-8864-414f043df959",
   "metadata": {},
   "source": [
    "pages[7].page_content"
   ]
  },
  {
   "cell_type": "code",
   "execution_count": null,
   "id": "d4d9e33a-b443-453c-bb55-ba807d08855d",
   "metadata": {},
   "outputs": [],
   "source": [
    "ids = [str(i) for i in range(len(pages))]"
   ]
  },
  {
   "cell_type": "markdown",
   "id": "f4b6e9f6-94ec-41d8-a6c6-04ceedba8e46",
   "metadata": {},
   "source": [
    "# Create LLM | Embedding"
   ]
  },
  {
   "cell_type": "code",
   "execution_count": null,
   "id": "069377d8-16b9-4459-b1b1-ad2acadb84e1",
   "metadata": {},
   "outputs": [],
   "source": [
    "embeddings = embedding_functions.DefaultEmbeddingFunction()"
   ]
  },
  {
   "cell_type": "raw",
   "id": "b71e9521-39d5-476a-9e7b-3cf52f9424ad",
   "metadata": {},
   "source": [
    "client.delete_collection(name=\"llm_in_medicine\")"
   ]
  },
  {
   "cell_type": "code",
   "execution_count": null,
   "id": "b913b633-786b-42f2-b31d-5ec6785ff856",
   "metadata": {},
   "outputs": [],
   "source": [
    "collection = client.get_or_create_collection(\"llm_in_medicine\")"
   ]
  },
  {
   "cell_type": "code",
   "execution_count": null,
   "id": "0af92b14-2bf5-405a-8e01-b32218e95ef4",
   "metadata": {},
   "outputs": [],
   "source": [
    "collection.add(\n",
    "    documents = [page.page_content for page in pages],\n",
    "    metadatas = [page.metadata for page in pages],\n",
    "    ids = ids\n",
    ")"
   ]
  },
  {
   "cell_type": "code",
   "execution_count": null,
   "id": "aed23041-84d8-47a9-9836-4dc89f320d6c",
   "metadata": {},
   "outputs": [],
   "source": [
    "collection.query(\n",
    "    query_texts=[\"models\",\"llm\"],\n",
    "    n_results=3,\n",
    "    where_document={\"$contains\":\"reinforce\"}\n",
    ")\n"
   ]
  },
  {
   "cell_type": "code",
   "execution_count": null,
   "id": "7c76f6f9-1f65-4731-b413-2a4946241b75",
   "metadata": {},
   "outputs": [],
   "source": []
  }
 ],
 "metadata": {
  "kernelspec": {
   "display_name": "Python 3 (ipykernel)",
   "language": "python",
   "name": "python3"
  },
  "language_info": {
   "codemirror_mode": {
    "name": "ipython",
    "version": 3
   },
   "file_extension": ".py",
   "mimetype": "text/x-python",
   "name": "python",
   "nbconvert_exporter": "python",
   "pygments_lexer": "ipython3",
   "version": "3.11.6"
  }
 },
 "nbformat": 4,
 "nbformat_minor": 5
}
