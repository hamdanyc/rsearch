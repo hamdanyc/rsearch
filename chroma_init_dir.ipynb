{
 "cells": [
  {
   "cell_type": "code",
   "execution_count": null,
   "id": "ab0642ca-a4b5-41de-b77b-8ffba2c8c69e",
   "metadata": {},
   "outputs": [],
   "source": [
    "from langchain_community.document_loaders import PyPDFLoader\n",
    "from langchain_text_splitters import CharacterTextSplitter\n",
    "from chromadb.utils import embedding_functions\n",
    "import os\n",
    "import chromadb\n",
    "from chromadb.config import Settings"
   ]
  },
  {
   "cell_type": "code",
   "execution_count": null,
   "id": "ab00916d-2a67-412a-bac1-253ae47be8f1",
   "metadata": {},
   "outputs": [],
   "source": [
    "client = chromadb.PersistentClient(path=\"chromadb/\")"
   ]
  },
  {
   "cell_type": "raw",
   "id": "7be47edb-f82d-47d6-aef0-a37049aa0c18",
   "metadata": {},
   "source": [
    "settings = Settings(allow_reset=True)\n",
    "client.reset()"
   ]
  },
  {
   "cell_type": "code",
   "execution_count": null,
   "id": "7d7c345b-0a2b-4fd9-a0de-b4feab82d305",
   "metadata": {},
   "outputs": [],
   "source": [
    "client.count_collections()"
   ]
  },
  {
   "cell_type": "markdown",
   "id": "da21e62c-80c1-41fd-8a92-2f5d22eb5b23",
   "metadata": {},
   "source": [
    "# Split docs to chunk"
   ]
  },
  {
   "cell_type": "code",
   "execution_count": null,
   "id": "0e6bfb17-ad3a-41c1-9fc3-e16e5b3ba066",
   "metadata": {},
   "outputs": [],
   "source": [
    "text_splitter = CharacterTextSplitter.from_tiktoken_encoder(\n",
    "    chunk_size=1000, chunk_overlap=0\n",
    ")"
   ]
  },
  {
   "cell_type": "markdown",
   "id": "f4b6e9f6-94ec-41d8-a6c6-04ceedba8e46",
   "metadata": {},
   "source": [
    "# Create LLM | Embedding"
   ]
  },
  {
   "cell_type": "code",
   "execution_count": null,
   "id": "069377d8-16b9-4459-b1b1-ad2acadb84e1",
   "metadata": {},
   "outputs": [],
   "source": [
    "embeddings = embedding_functions.DefaultEmbeddingFunction()"
   ]
  },
  {
   "cell_type": "markdown",
   "id": "704ab6a0-abe0-41eb-9977-c8565c567d6d",
   "metadata": {},
   "source": [
    "# Main "
   ]
  },
  {
   "cell_type": "code",
   "execution_count": null,
   "id": "5acaca04-d9c4-4329-b004-762c36d79dbe",
   "metadata": {},
   "outputs": [],
   "source": [
    "%%time\n",
    "if __name__ == \"__main__\":\n",
    "\n",
    "    # Iterate through PDF files in the articles directory\n",
    "    articles_dir = \"article/\"\n",
    "    ids = []\n",
    "    pages = []\n",
    "    \n",
    "    for filename in os.listdir(articles_dir):\n",
    "        if filename.endswith(\".pdf\"):\n",
    "            file_path = os.path.join(articles_dir, filename)\n",
    "            loader = PyPDFLoader(file_path)\n",
    "            doc = loader.load()    \n",
    "    \n",
    "        # Split doc to chunks\n",
    "        pages = text_splitter.split_documents(doc)\n",
    "        ids = [str(i) for i in range(len(pages))]\n",
    "        print(f\"Generated {len(pages)} documents of {filename}.\")\n",
    "    \n",
    "        # save doc to vector store\n",
    "        collection = client.get_or_create_collection(f\"{filename}\")\n",
    "        collection.add(\n",
    "            documents = [page.page_content for page in pages],\n",
    "            metadatas = [page.metadata for page in pages],\n",
    "            ids = ids\n",
    "        )\n",
    "        \n",
    "        "
   ]
  },
  {
   "cell_type": "code",
   "execution_count": null,
   "id": "12e50a05-9a10-467c-a98e-5c66db951099",
   "metadata": {},
   "outputs": [],
   "source": []
  }
 ],
 "metadata": {
  "kernelspec": {
   "display_name": "Python 3 (ipykernel)",
   "language": "python",
   "name": "python3"
  },
  "language_info": {
   "codemirror_mode": {
    "name": "ipython",
    "version": 3
   },
   "file_extension": ".py",
   "mimetype": "text/x-python",
   "name": "python",
   "nbconvert_exporter": "python",
   "pygments_lexer": "ipython3",
   "version": "3.11.6"
  }
 },
 "nbformat": 4,
 "nbformat_minor": 5
}
